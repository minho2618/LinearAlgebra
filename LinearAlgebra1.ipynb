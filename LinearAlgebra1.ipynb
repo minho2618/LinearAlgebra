{
  "nbformat": 4,
  "nbformat_minor": 0,
  "metadata": {
    "colab": {
      "name": "LinearAlgebra1.ipynb",
      "provenance": [],
      "collapsed_sections": [],
      "authorship_tag": "ABX9TyPBMHlGLvw/gC8zHom38h0T",
      "include_colab_link": true
    },
    "kernelspec": {
      "name": "python3",
      "display_name": "Python 3"
    },
    "language_info": {
      "name": "python"
    }
  },
  "cells": [
    {
      "cell_type": "markdown",
      "metadata": {
        "id": "view-in-github",
        "colab_type": "text"
      },
      "source": [
        "<a href=\"https://colab.research.google.com/github/minho2618/LinearAlgebra/blob/main/LinearAlgebra1.ipynb\" target=\"_parent\"><img src=\"https://colab.research.google.com/assets/colab-badge.svg\" alt=\"Open In Colab\"/></a>"
      ]
    },
    {
      "cell_type": "code",
      "metadata": {
        "colab": {
          "base_uri": "https://localhost:8080/"
        },
        "id": "GYkiJixExnif",
        "outputId": "eab2ebbb-5fdb-4673-9674-3414430fb00e"
      },
      "source": [
        "x = [-1.1, 0.0, 3.6, -7.2]\n",
        "len(x)"
      ],
      "execution_count": null,
      "outputs": [
        {
          "output_type": "execute_result",
          "data": {
            "text/plain": [
              "4"
            ]
          },
          "metadata": {},
          "execution_count": 8
        }
      ]
    },
    {
      "cell_type": "code",
      "metadata": {
        "colab": {
          "base_uri": "https://localhost:8080/"
        },
        "id": "BenHdElxyE4M",
        "outputId": "26b5902a-8803-4004-aba0-616f8c1a24bd"
      },
      "source": [
        "import numpy as np\n",
        "x = np.array([-1.1, 0.0, 3.6, -7.2])\n",
        "print(len(x))\n",
        "print(x[2])\n",
        "x[2] = 20.0\n",
        "print(x)\n",
        "print(x[-1])"
      ],
      "execution_count": null,
      "outputs": [
        {
          "output_type": "stream",
          "name": "stdout",
          "text": [
            "4\n",
            "3.6\n",
            "[-1.1  0.  20.  -7.2]\n",
            "-7.2\n"
          ]
        }
      ]
    },
    {
      "cell_type": "code",
      "metadata": {
        "colab": {
          "base_uri": "https://localhost:8080/"
        },
        "id": "coJ-BJr521kN",
        "outputId": "2b3a9cd4-837f-4a25-ae70-abacb8e8ca23"
      },
      "source": [
        "import numpy as np\n",
        "x = np.array([-1.1, 0.0, 3.6, -7.2])\n",
        "y = x\n",
        "x[2] = 20.0\n",
        "print(y)"
      ],
      "execution_count": null,
      "outputs": [
        {
          "output_type": "stream",
          "name": "stdout",
          "text": [
            "[-1.1  0.  20.  -7.2]\n"
          ]
        }
      ]
    },
    {
      "cell_type": "code",
      "metadata": {
        "colab": {
          "base_uri": "https://localhost:8080/"
        },
        "id": "7OuY4OSj3kGT",
        "outputId": "cee051a8-6c7d-4443-9c79-0f6335d986b5"
      },
      "source": [
        "import numpy as np\n",
        "x = np.array([-1.1, 0.0, 3.6, -7.2])\n",
        "y = x.copy()\n",
        "x[2] = 20.0\n",
        "print(y)"
      ],
      "execution_count": null,
      "outputs": [
        {
          "output_type": "stream",
          "name": "stdout",
          "text": [
            "[-1.1  0.   3.6 -7.2]\n"
          ]
        }
      ]
    },
    {
      "cell_type": "code",
      "metadata": {
        "colab": {
          "base_uri": "https://localhost:8080/"
        },
        "id": "6M9lebUY33Vs",
        "outputId": "cf02a458-ad2c-4b4c-ac2a-006a3ceb95fb"
      },
      "source": [
        "import numpy as np\n",
        "x = np.array([-1.1, 0.0, 3.6, -7.2])\n",
        "y = x.copy()\n",
        "x == y"
      ],
      "execution_count": null,
      "outputs": [
        {
          "output_type": "execute_result",
          "data": {
            "text/plain": [
              "array([ True,  True,  True,  True])"
            ]
          },
          "metadata": {},
          "execution_count": 23
        }
      ]
    },
    {
      "cell_type": "code",
      "metadata": {
        "colab": {
          "base_uri": "https://localhost:8080/"
        },
        "id": "9aKC5JEl4D1Y",
        "outputId": "514d6159-75df-45f7-9ada-997d1eb5bc26"
      },
      "source": [
        "import numpy as np\n",
        "x = np.array([-1.1, 0.0, 3.6, -7.2])\n",
        "y = x.copy()\n",
        "y[3] = 9.0\n",
        "x == y"
      ],
      "execution_count": null,
      "outputs": [
        {
          "output_type": "execute_result",
          "data": {
            "text/plain": [
              "array([ True,  True,  True, False])"
            ]
          },
          "metadata": {},
          "execution_count": 24
        }
      ]
    },
    {
      "cell_type": "code",
      "metadata": {
        "colab": {
          "base_uri": "https://localhost:8080/"
        },
        "id": "s-AwMHOj44F7",
        "outputId": "83b79350-896c-48ba-eb76-55eef13bc51b"
      },
      "source": [
        "x = 2.4\n",
        "y = [2.4]\n",
        "x == y"
      ],
      "execution_count": null,
      "outputs": [
        {
          "output_type": "execute_result",
          "data": {
            "text/plain": [
              "False"
            ]
          },
          "metadata": {},
          "execution_count": 25
        }
      ]
    },
    {
      "cell_type": "code",
      "metadata": {
        "colab": {
          "base_uri": "https://localhost:8080/"
        },
        "id": "M_cnD6R547ce",
        "outputId": "08a6d3bd-3043-4061-8635-93ff921188d5"
      },
      "source": [
        "x = 2.4\n",
        "y = np.array([2.4])\n",
        "x == y"
      ],
      "execution_count": null,
      "outputs": [
        {
          "output_type": "execute_result",
          "data": {
            "text/plain": [
              "array([ True])"
            ]
          },
          "metadata": {},
          "execution_count": 26
        }
      ]
    },
    {
      "cell_type": "code",
      "metadata": {
        "colab": {
          "base_uri": "https://localhost:8080/"
        },
        "id": "iHjDbtzn5Tfa",
        "outputId": "5384d25f-ebb5-456a-efd2-c1afdcf7cc0d"
      },
      "source": [
        "x = np.array([1, -2])\n",
        "y = np.array([1,1,0])\n",
        "z = np.concatenate([x,y])\n",
        "print(z)"
      ],
      "execution_count": null,
      "outputs": [
        {
          "output_type": "stream",
          "name": "stdout",
          "text": [
            "[ 1 -2  1  1  0]\n"
          ]
        }
      ]
    },
    {
      "cell_type": "code",
      "metadata": {
        "colab": {
          "base_uri": "https://localhost:8080/"
        },
        "id": "RhVTtsTo6BSJ",
        "outputId": "8912603b-aaf1-4f6e-ece1-31f46539de88"
      },
      "source": [
        "x = np.array([1,8,3,2,1,9,7])\n",
        "y = x[1:4]\n",
        "print(y)"
      ],
      "execution_count": null,
      "outputs": [
        {
          "output_type": "stream",
          "name": "stdout",
          "text": [
            "[8 3 2]\n"
          ]
        }
      ]
    },
    {
      "cell_type": "code",
      "metadata": {
        "colab": {
          "base_uri": "https://localhost:8080/"
        },
        "id": "wvahVCJ-6JcI",
        "outputId": "6c93b478-1b69-46bd-fb41-2b8c3229e908"
      },
      "source": [
        "x[3:6] = [100,200,300]\n",
        "print(x)"
      ],
      "execution_count": null,
      "outputs": [
        {
          "output_type": "stream",
          "name": "stdout",
          "text": [
            "[  1   8   3 100 200 300   7]\n"
          ]
        }
      ]
    },
    {
      "cell_type": "code",
      "metadata": {
        "colab": {
          "base_uri": "https://localhost:8080/"
        },
        "id": "npl8SBoE6wP8",
        "outputId": "20be1a2b-26b6-4b44-f0df-1b41f4b0190d"
      },
      "source": [
        "x = np.array([1,8,3,2,1,9,7])\n",
        "print(x[2:])\n",
        "print(x[:-1])\n",
        "print(x[:])\n",
        "print(x[::-1])"
      ],
      "execution_count": null,
      "outputs": [
        {
          "output_type": "stream",
          "name": "stdout",
          "text": [
            "[3 2 1 9 7]\n",
            "[1 8 3 2 1 9]\n",
            "[1 8 3 2 1 9 7]\n",
            "[7 9 1 2 3 8 1]\n"
          ]
        }
      ]
    },
    {
      "cell_type": "code",
      "metadata": {
        "colab": {
          "base_uri": "https://localhost:8080/"
        },
        "id": "sqdnovto67xR",
        "outputId": "50d4c9d6-8eeb-495b-cab6-5e276f06840a"
      },
      "source": [
        "d = x[1:] - x[:-1]\n",
        "print(x[1:])\n",
        "print(x[:-1])\n",
        "print(d)"
      ],
      "execution_count": null,
      "outputs": [
        {
          "output_type": "stream",
          "name": "stdout",
          "text": [
            "[8 3 2 1 9 7]\n",
            "[1 8 3 2 1 9]\n",
            "[ 7 -5 -1 -1  8 -2]\n"
          ]
        }
      ]
    },
    {
      "cell_type": "code",
      "metadata": {
        "colab": {
          "base_uri": "https://localhost:8080/"
        },
        "id": "dSNgh04K6-M1",
        "outputId": "a6e14d35-1aa8-4f9e-8548-1be053598f7e"
      },
      "source": [
        "np.zeros(3)"
      ],
      "execution_count": null,
      "outputs": [
        {
          "output_type": "execute_result",
          "data": {
            "text/plain": [
              "array([0., 0., 0.])"
            ]
          },
          "metadata": {},
          "execution_count": 46
        }
      ]
    },
    {
      "cell_type": "code",
      "metadata": {
        "colab": {
          "base_uri": "https://localhost:8080/"
        },
        "id": "aT2lx_nC7cSg",
        "outputId": "6eb8f605-d2b8-4003-a324-e2d0f6395c0b"
      },
      "source": [
        "i = 2\n",
        "n = 4\n",
        "x = np.zeros(n)\n",
        "x[i] = 1\n",
        "print(x)"
      ],
      "execution_count": null,
      "outputs": [
        {
          "output_type": "stream",
          "name": "stdout",
          "text": [
            "[0. 0. 1. 0.]\n"
          ]
        }
      ]
    },
    {
      "cell_type": "code",
      "metadata": {
        "colab": {
          "base_uri": "https://localhost:8080/"
        },
        "id": "hiMljDit9eCh",
        "outputId": "5f1c08e6-3b5c-4b2b-d8e3-af31e9ee8ce3"
      },
      "source": [
        "n = 4\n",
        "for i in range(0, n):\n",
        "  x = np.zeros(n)\n",
        "  x[i] = 1\n",
        "  print(x)"
      ],
      "execution_count": null,
      "outputs": [
        {
          "output_type": "stream",
          "name": "stdout",
          "text": [
            "[1. 0. 0. 0.]\n",
            "[0. 1. 0. 0.]\n",
            "[0. 0. 1. 0.]\n",
            "[0. 0. 0. 1.]\n"
          ]
        }
      ]
    },
    {
      "cell_type": "code",
      "metadata": {
        "colab": {
          "base_uri": "https://localhost:8080/"
        },
        "id": "YD2MZvSd9i6W",
        "outputId": "4cdc91c3-a02d-4610-c183-33352640153a"
      },
      "source": [
        "np.random.random(2)"
      ],
      "execution_count": null,
      "outputs": [
        {
          "output_type": "execute_result",
          "data": {
            "text/plain": [
              "array([0.05191329, 0.59161673])"
            ]
          },
          "metadata": {},
          "execution_count": 55
        }
      ]
    },
    {
      "cell_type": "code",
      "metadata": {
        "colab": {
          "base_uri": "https://localhost:8080/",
          "height": 265
        },
        "id": "DTpAgFHZ99xM",
        "outputId": "34ca9dbb-18d3-450a-8658-d10d31d03e37"
      },
      "source": [
        "import matplotlib.pyplot as plt\n",
        "plt.ion()\n",
        "temps = [ 71, 71, 68, 69, 68, 69, 68, 74, 77, 82, 85, 86, 88, 86,\n",
        "85, 86, 84, 79, 77, 75, 73, 71, 70, 70, 69, 69, 69, 69, 67,\n",
        "68, 68, 73, 76, 77, 82, 84, 84, 81, 80, 78, 79, 78, 73, 72,\n",
        "70, 70, 68, 67 ]\n",
        "plt.plot(temps, '-bo')\n",
        "plt.show()"
      ],
      "execution_count": null,
      "outputs": [
        {
          "output_type": "display_data",
          "data": {
            "image/png": "[encoded data removed]",
            "text/plain": [
              "<Figure size 432x288 with 1 Axes>"
            ]
          },
          "metadata": {
            "needs_background": "light"
          }
        }
      ]
    },
    {
      "cell_type": "code",
      "metadata": {
        "colab": {
          "base_uri": "https://localhost:8080/",
          "height": 265
        },
        "id": "17OECq8V-PIL",
        "outputId": "24bb0e99-18e3-4910-d48f-2736106ef058"
      },
      "source": [
        "reTemps = temps[::-1]\n",
        "plt.plot(reTemps, '-bo')\n",
        "plt.show()"
      ],
      "execution_count": null,
      "outputs": [
        {
          "output_type": "display_data",
          "data": {
            "image/png": "[encoded data removed]",
            "text/plain": [
              "<Figure size 432x288 with 1 Axes>"
            ]
          },
          "metadata": {
            "needs_background": "light"
          }
        }
      ]
    },
    {
      "cell_type": "code",
      "metadata": {
        "colab": {
          "base_uri": "https://localhost:8080/"
        },
        "id": "cUFZu_XJ-tOs",
        "outputId": "ffa04aab-b5be-4a84-f6d0-195c1456e901"
      },
      "source": [
        "x = np.array([1,2,3])\n",
        "y = np.array([100,200,300])\n",
        "print('Sum of arrays:', x+y)\n",
        "print('Difference of arrays:', x-y)\n",
        "\n",
        "print('Scalar multiple of arrays', 2.2 * x)\n",
        "print('Scalar division of arrays', x / 2.2)"
      ],
      "execution_count": null,
      "outputs": [
        {
          "output_type": "stream",
          "name": "stdout",
          "text": [
            "Sum of arrays: [101 202 303]\n",
            "Difference of arrays: [ -99 -198 -297]\n",
            "Scalar multiple of arrays [2.2 4.4 6.6]\n",
            "Scalar division of arrays [0.45454545 0.90909091 1.36363636]\n"
          ]
        }
      ]
    },
    {
      "cell_type": "code",
      "metadata": {
        "colab": {
          "base_uri": "https://localhost:8080/"
        },
        "id": "3KaRg1Xv_vlB",
        "outputId": "4b96a17a-a00f-41ba-b686-8487db07a666"
      },
      "source": [
        "p_initial = np.array([22.15, 89.32, 56.77])\n",
        "p_final = np.array([23.05, 87.32, 53.13])\n",
        "r = (p_final - p_initial) / p_initial\n",
        "print(r)"
      ],
      "execution_count": null,
      "outputs": [
        {
          "output_type": "stream",
          "name": "stdout",
          "text": [
            "[ 0.04063205 -0.0223914  -0.06411837]\n"
          ]
        }
      ]
    },
    {
      "cell_type": "code",
      "metadata": {
        "colab": {
          "base_uri": "https://localhost:8080/"
        },
        "id": "z_IqKkErBH-b",
        "outputId": "4c3a146f-9707-4126-9682-ba8c66a5e9e0"
      },
      "source": [
        "import numpy as np\n",
        "a = np.array([1,2])\n",
        "b = np.array([3,4])\n",
        "alpha = -0.5\n",
        "beta = 1.5\n",
        "c = alpha*a + beta*b\n",
        "print(c)"
      ],
      "execution_count": null,
      "outputs": [
        {
          "output_type": "stream",
          "name": "stdout",
          "text": [
            "[4. 5.]\n"
          ]
        }
      ]
    },
    {
      "cell_type": "code",
      "metadata": {
        "colab": {
          "base_uri": "https://localhost:8080/"
        },
        "id": "Va75xLzfAs8p",
        "outputId": "42d48e23-f777-4b33-a280-3d2c4b510bac"
      },
      "source": [
        "def lincomb(coef, vectors):\n",
        "  n = len(vectors[0])\n",
        "  comb = np.zeros(n)\n",
        "  for i in range(len(vectors)):\n",
        "    comb = comb + coef[i] * vectors[i]\n",
        "  return comb\n",
        "\n",
        "c = lincomb([alpha, beta], [a, b])\n",
        "print(c)"
      ],
      "execution_count": null,
      "outputs": [
        {
          "output_type": "stream",
          "name": "stdout",
          "text": [
            "[4. 5.]\n"
          ]
        }
      ]
    }
  ]
}